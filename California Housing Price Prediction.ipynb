{
 "cells": [
  {
   "cell_type": "code",
   "execution_count": 1,
   "metadata": {},
   "outputs": [],
   "source": [
    "import pandas as pd\n",
    "import numpy as np\n",
    "from sklearn.preprocessing import LabelEncoder\n",
    "from sklearn.model_selection import train_test_split\n",
    "from sklearn.preprocessing import StandardScaler\n",
    "from sklearn.linear_model import LinearRegression\n",
    "from sklearn.metrics import mean_squared_error\n",
    "from math import sqrt"
   ]
  },
  {
   "cell_type": "code",
   "execution_count": 2,
   "metadata": {},
   "outputs": [],
   "source": [
    "Housing_df=pd.read_csv('D:/Akshay/simpli/machine learning/Machine_Learning_Projects/Projects/Projects for submission/California Housing Price Prediction/Dataset for the project/housing.csv')"
   ]
  },
  {
   "cell_type": "code",
   "execution_count": 3,
   "metadata": {},
   "outputs": [
    {
     "name": "stdout",
     "output_type": "stream",
     "text": [
      "(20640, 10)\n"
     ]
    }
   ],
   "source": [
    "print(Housing_df.shape)"
   ]
  },
  {
   "cell_type": "code",
   "execution_count": 4,
   "metadata": {},
   "outputs": [
    {
     "name": "stdout",
     "output_type": "stream",
     "text": [
      "   longitude  latitude  housing_median_age  total_rooms  total_bedrooms  \\\n",
      "0    -122.23     37.88                  41          880           129.0   \n",
      "1    -122.22     37.86                  21         7099          1106.0   \n",
      "2    -122.24     37.85                  52         1467           190.0   \n",
      "3    -122.25     37.85                  52         1274           235.0   \n",
      "4    -122.25     37.85                  52         1627           280.0   \n",
      "\n",
      "   population  households  median_income ocean_proximity  median_house_value  \n",
      "0         322         126         8.3252        NEAR BAY              452600  \n",
      "1        2401        1138         8.3014        NEAR BAY              358500  \n",
      "2         496         177         7.2574        NEAR BAY              352100  \n",
      "3         558         219         5.6431        NEAR BAY              341300  \n",
      "4         565         259         3.8462        NEAR BAY              342200  \n"
     ]
    }
   ],
   "source": [
    "print(Housing_df.head())"
   ]
  },
  {
   "cell_type": "code",
   "execution_count": 5,
   "metadata": {},
   "outputs": [
    {
     "data": {
      "text/plain": [
       "longitude               0\n",
       "latitude                0\n",
       "housing_median_age      0\n",
       "total_rooms             0\n",
       "total_bedrooms        207\n",
       "population              0\n",
       "households              0\n",
       "median_income           0\n",
       "ocean_proximity         0\n",
       "median_house_value      0\n",
       "dtype: int64"
      ]
     },
     "execution_count": 5,
     "metadata": {},
     "output_type": "execute_result"
    }
   ],
   "source": [
    "Housing_df.isnull().sum()"
   ]
  },
  {
   "cell_type": "code",
   "execution_count": 6,
   "metadata": {},
   "outputs": [],
   "source": [
    "Housing_df.total_bedrooms=Housing_df.total_bedrooms.fillna(np.mean(Housing_df.total_bedrooms))"
   ]
  },
  {
   "cell_type": "code",
   "execution_count": 7,
   "metadata": {},
   "outputs": [
    {
     "data": {
      "text/plain": [
       "longitude             0\n",
       "latitude              0\n",
       "housing_median_age    0\n",
       "total_rooms           0\n",
       "total_bedrooms        0\n",
       "population            0\n",
       "households            0\n",
       "median_income         0\n",
       "ocean_proximity       0\n",
       "median_house_value    0\n",
       "dtype: int64"
      ]
     },
     "execution_count": 7,
     "metadata": {},
     "output_type": "execute_result"
    }
   ],
   "source": [
    "Housing_df.isnull().sum()"
   ]
  },
  {
   "cell_type": "code",
   "execution_count": 8,
   "metadata": {},
   "outputs": [],
   "source": [
    "X = Housing_df.iloc [:,:-1]\n",
    "Y = Housing_df.iloc [:,-1]"
   ]
  },
  {
   "cell_type": "code",
   "execution_count": 9,
   "metadata": {},
   "outputs": [
    {
     "data": {
      "text/html": [
       "<div>\n",
       "<style scoped>\n",
       "    .dataframe tbody tr th:only-of-type {\n",
       "        vertical-align: middle;\n",
       "    }\n",
       "\n",
       "    .dataframe tbody tr th {\n",
       "        vertical-align: top;\n",
       "    }\n",
       "\n",
       "    .dataframe thead th {\n",
       "        text-align: right;\n",
       "    }\n",
       "</style>\n",
       "<table border=\"1\" class=\"dataframe\">\n",
       "  <thead>\n",
       "    <tr style=\"text-align: right;\">\n",
       "      <th></th>\n",
       "      <th>longitude</th>\n",
       "      <th>latitude</th>\n",
       "      <th>housing_median_age</th>\n",
       "      <th>total_rooms</th>\n",
       "      <th>total_bedrooms</th>\n",
       "      <th>population</th>\n",
       "      <th>households</th>\n",
       "      <th>median_income</th>\n",
       "      <th>ocean_proximity</th>\n",
       "    </tr>\n",
       "  </thead>\n",
       "  <tbody>\n",
       "    <tr>\n",
       "      <th>0</th>\n",
       "      <td>-122.23</td>\n",
       "      <td>37.88</td>\n",
       "      <td>41</td>\n",
       "      <td>880</td>\n",
       "      <td>129.0</td>\n",
       "      <td>322</td>\n",
       "      <td>126</td>\n",
       "      <td>8.3252</td>\n",
       "      <td>NEAR BAY</td>\n",
       "    </tr>\n",
       "    <tr>\n",
       "      <th>1</th>\n",
       "      <td>-122.22</td>\n",
       "      <td>37.86</td>\n",
       "      <td>21</td>\n",
       "      <td>7099</td>\n",
       "      <td>1106.0</td>\n",
       "      <td>2401</td>\n",
       "      <td>1138</td>\n",
       "      <td>8.3014</td>\n",
       "      <td>NEAR BAY</td>\n",
       "    </tr>\n",
       "    <tr>\n",
       "      <th>2</th>\n",
       "      <td>-122.24</td>\n",
       "      <td>37.85</td>\n",
       "      <td>52</td>\n",
       "      <td>1467</td>\n",
       "      <td>190.0</td>\n",
       "      <td>496</td>\n",
       "      <td>177</td>\n",
       "      <td>7.2574</td>\n",
       "      <td>NEAR BAY</td>\n",
       "    </tr>\n",
       "    <tr>\n",
       "      <th>3</th>\n",
       "      <td>-122.25</td>\n",
       "      <td>37.85</td>\n",
       "      <td>52</td>\n",
       "      <td>1274</td>\n",
       "      <td>235.0</td>\n",
       "      <td>558</td>\n",
       "      <td>219</td>\n",
       "      <td>5.6431</td>\n",
       "      <td>NEAR BAY</td>\n",
       "    </tr>\n",
       "    <tr>\n",
       "      <th>4</th>\n",
       "      <td>-122.25</td>\n",
       "      <td>37.85</td>\n",
       "      <td>52</td>\n",
       "      <td>1627</td>\n",
       "      <td>280.0</td>\n",
       "      <td>565</td>\n",
       "      <td>259</td>\n",
       "      <td>3.8462</td>\n",
       "      <td>NEAR BAY</td>\n",
       "    </tr>\n",
       "  </tbody>\n",
       "</table>\n",
       "</div>"
      ],
      "text/plain": [
       "   longitude  latitude  housing_median_age  total_rooms  total_bedrooms  \\\n",
       "0    -122.23     37.88                  41          880           129.0   \n",
       "1    -122.22     37.86                  21         7099          1106.0   \n",
       "2    -122.24     37.85                  52         1467           190.0   \n",
       "3    -122.25     37.85                  52         1274           235.0   \n",
       "4    -122.25     37.85                  52         1627           280.0   \n",
       "\n",
       "   population  households  median_income ocean_proximity  \n",
       "0         322         126         8.3252        NEAR BAY  \n",
       "1        2401        1138         8.3014        NEAR BAY  \n",
       "2         496         177         7.2574        NEAR BAY  \n",
       "3         558         219         5.6431        NEAR BAY  \n",
       "4         565         259         3.8462        NEAR BAY  "
      ]
     },
     "execution_count": 9,
     "metadata": {},
     "output_type": "execute_result"
    }
   ],
   "source": [
    "X.head()"
   ]
  },
  {
   "cell_type": "code",
   "execution_count": 10,
   "metadata": {},
   "outputs": [
    {
     "data": {
      "text/plain": [
       "0    452600\n",
       "1    358500\n",
       "2    352100\n",
       "3    341300\n",
       "4    342200\n",
       "Name: median_house_value, dtype: int64"
      ]
     },
     "execution_count": 10,
     "metadata": {},
     "output_type": "execute_result"
    }
   ],
   "source": [
    "Y.head()"
   ]
  },
  {
   "cell_type": "code",
   "execution_count": 11,
   "metadata": {},
   "outputs": [],
   "source": [
    "categorical_columns = ['ocean_proximity']"
   ]
  },
  {
   "cell_type": "code",
   "execution_count": 12,
   "metadata": {},
   "outputs": [
    {
     "name": "stdout",
     "output_type": "stream",
     "text": [
      "   longitude  latitude  housing_median_age  total_rooms  total_bedrooms  \\\n",
      "0    -122.23     37.88                  41          880           129.0   \n",
      "1    -122.22     37.86                  21         7099          1106.0   \n",
      "2    -122.24     37.85                  52         1467           190.0   \n",
      "3    -122.25     37.85                  52         1274           235.0   \n",
      "4    -122.25     37.85                  52         1627           280.0   \n",
      "\n",
      "   population  households  median_income  ocean_proximity  \n",
      "0         322         126         8.3252                3  \n",
      "1        2401        1138         8.3014                3  \n",
      "2         496         177         7.2574                3  \n",
      "3         558         219         5.6431                3  \n",
      "4         565         259         3.8462                3  \n"
     ]
    },
    {
     "name": "stderr",
     "output_type": "stream",
     "text": [
      "D:\\anaconda\\lib\\site-packages\\sklearn\\preprocessing\\label.py:111: DataConversionWarning: A column-vector y was passed when a 1d array was expected. Please change the shape of y to (n_samples, ), for example using ravel().\n",
      "  y = column_or_1d(y, warn=True)\n"
     ]
    }
   ],
   "source": [
    "X_labelencoder = LabelEncoder()\n",
    "X[categorical_columns] = X_labelencoder.fit_transform(X[categorical_columns])\n",
    "print (X).head()"
   ]
  },
  {
   "cell_type": "code",
   "execution_count": 13,
   "metadata": {},
   "outputs": [],
   "source": [
    "X_train, X_test, Y_train, Y_test = train_test_split (X, Y, test_size = 0.2, \n",
    "                                                     random_state = 0)"
   ]
  },
  {
   "cell_type": "code",
   "execution_count": 14,
   "metadata": {},
   "outputs": [
    {
     "name": "stdout",
     "output_type": "stream",
     "text": [
      "(16512, 9)\n",
      "(4128, 9)\n",
      "(16512,)\n",
      "(4128,)\n"
     ]
    }
   ],
   "source": [
    "print(X_train.shape)\n",
    "print(X_test.shape)\n",
    "print(Y_train.shape)\n",
    "print(Y_test.shape)"
   ]
  },
  {
   "cell_type": "code",
   "execution_count": 15,
   "metadata": {},
   "outputs": [
    {
     "name": "stdout",
     "output_type": "stream",
     "text": [
      "[[ 1.00389865 -0.8400624  -1.79507596 ... -1.1356496   0.19001247\n",
      "  -0.11814798]\n",
      " [-1.43477229  0.98536392  1.85553889 ... -0.13688171  0.26931072\n",
      "   1.28686421]\n",
      " [ 0.77948108 -0.8400624  -0.20785212 ... -0.34343319  0.02989505\n",
      "  -0.82065408]\n",
      " ...\n",
      " [-1.1654712   0.44709718  0.18895385 ... -0.27806879 -0.35589721\n",
      "   1.98937031]\n",
      " [ 0.81439048 -0.93835459  0.42703742 ... -0.08197562  0.92053182\n",
      "  -0.82065408]\n",
      " [ 1.99632302 -1.32216217 -1.08082523 ... -0.52645348 -1.30490629\n",
      "  -0.11814798]]\n"
     ]
    }
   ],
   "source": [
    "independent_scalar = StandardScaler()\n",
    "X_train = independent_scalar.fit_transform (X_train)\n",
    "X_test = independent_scalar.transform (X_test)\n",
    "print(X_train)"
   ]
  },
  {
   "cell_type": "code",
   "execution_count": 16,
   "metadata": {},
   "outputs": [
    {
     "name": "stderr",
     "output_type": "stream",
     "text": [
      "D:\\anaconda\\lib\\site-packages\\statsmodels\\compat\\pandas.py:56: FutureWarning: The pandas.core.datetools module is deprecated and will be removed in a future version. Please use the pandas.tseries module instead.\n",
      "  from pandas.core import datetools\n"
     ]
    }
   ],
   "source": [
    "import statsmodels.api as sm\n",
    "from scipy.stats import t"
   ]
  },
  {
   "cell_type": "code",
   "execution_count": 17,
   "metadata": {},
   "outputs": [],
   "source": [
    "lreg = sm.OLS(Y_train,X_train).fit()"
   ]
  },
  {
   "cell_type": "code",
   "execution_count": 18,
   "metadata": {},
   "outputs": [
    {
     "data": {
      "text/html": [
       "<table class=\"simpletable\">\n",
       "<caption>OLS Regression Results</caption>\n",
       "<tr>\n",
       "  <th>Dep. Variable:</th>    <td>median_house_value</td> <th>  R-squared:         </th>  <td>   0.152</td>  \n",
       "</tr>\n",
       "<tr>\n",
       "  <th>Model:</th>                    <td>OLS</td>        <th>  Adj. R-squared:    </th>  <td>   0.151</td>  \n",
       "</tr>\n",
       "<tr>\n",
       "  <th>Method:</th>              <td>Least Squares</td>   <th>  F-statistic:       </th>  <td>   327.5</td>  \n",
       "</tr>\n",
       "<tr>\n",
       "  <th>Date:</th>              <td>Sat, 16 Jun 2018</td>  <th>  Prob (F-statistic):</th>   <td>  0.00</td>   \n",
       "</tr>\n",
       "<tr>\n",
       "  <th>Time:</th>                  <td>09:46:59</td>      <th>  Log-Likelihood:    </th> <td>-2.2645e+05</td>\n",
       "</tr>\n",
       "<tr>\n",
       "  <th>No. Observations:</th>       <td> 16512</td>       <th>  AIC:               </th>  <td>4.529e+05</td> \n",
       "</tr>\n",
       "<tr>\n",
       "  <th>Df Residuals:</th>           <td> 16503</td>       <th>  BIC:               </th>  <td>4.530e+05</td> \n",
       "</tr>\n",
       "<tr>\n",
       "  <th>Df Model:</th>               <td>     9</td>       <th>                     </th>      <td> </td>     \n",
       "</tr>\n",
       "<tr>\n",
       "  <th>Covariance Type:</th>       <td>nonrobust</td>     <th>                     </th>      <td> </td>     \n",
       "</tr>\n",
       "</table>\n",
       "<table class=\"simpletable\">\n",
       "<tr>\n",
       "   <td></td>     <th>coef</th>     <th>std err</th>      <th>t</th>      <th>P>|t|</th>  <th>[0.025</th>    <th>0.975]</th>  \n",
       "</tr>\n",
       "<tr>\n",
       "  <th>x1</th> <td>-8.513e+04</td> <td> 5243.571</td> <td>  -16.235</td> <td> 0.000</td> <td>-9.54e+04</td> <td>-7.48e+04</td>\n",
       "</tr>\n",
       "<tr>\n",
       "  <th>x2</th> <td>-9.031e+04</td> <td> 5172.880</td> <td>  -17.459</td> <td> 0.000</td> <td>   -1e+05</td> <td>-8.02e+04</td>\n",
       "</tr>\n",
       "<tr>\n",
       "  <th>x3</th> <td>  1.45e+04</td> <td> 1914.149</td> <td>    7.575</td> <td> 0.000</td> <td> 1.07e+04</td> <td> 1.83e+04</td>\n",
       "</tr>\n",
       "<tr>\n",
       "  <th>x4</th> <td>-1.361e+04</td> <td> 6016.991</td> <td>   -2.262</td> <td> 0.024</td> <td>-2.54e+04</td> <td>-1814.442</td>\n",
       "</tr>\n",
       "<tr>\n",
       "  <th>x5</th> <td> 3.221e+04</td> <td> 8795.952</td> <td>    3.662</td> <td> 0.000</td> <td>  1.5e+04</td> <td> 4.95e+04</td>\n",
       "</tr>\n",
       "<tr>\n",
       "  <th>x6</th> <td>-4.483e+04</td> <td> 4257.567</td> <td>  -10.530</td> <td> 0.000</td> <td>-5.32e+04</td> <td>-3.65e+04</td>\n",
       "</tr>\n",
       "<tr>\n",
       "  <th>x7</th> <td> 3.067e+04</td> <td> 8954.552</td> <td>    3.425</td> <td> 0.001</td> <td> 1.31e+04</td> <td> 4.82e+04</td>\n",
       "</tr>\n",
       "<tr>\n",
       "  <th>x8</th> <td> 7.585e+04</td> <td> 2227.147</td> <td>   34.056</td> <td> 0.000</td> <td> 7.15e+04</td> <td> 8.02e+04</td>\n",
       "</tr>\n",
       "<tr>\n",
       "  <th>x9</th> <td>  326.6858</td> <td> 1830.471</td> <td>    0.178</td> <td> 0.858</td> <td>-3261.234</td> <td> 3914.605</td>\n",
       "</tr>\n",
       "</table>\n",
       "<table class=\"simpletable\">\n",
       "<tr>\n",
       "  <th>Omnibus:</th>       <td>3997.672</td> <th>  Durbin-Watson:     </th> <td>   0.202</td> \n",
       "</tr>\n",
       "<tr>\n",
       "  <th>Prob(Omnibus):</th>  <td> 0.000</td>  <th>  Jarque-Bera (JB):  </th> <td>15363.856</td>\n",
       "</tr>\n",
       "<tr>\n",
       "  <th>Skew:</th>           <td> 1.166</td>  <th>  Prob(JB):          </th> <td>    0.00</td> \n",
       "</tr>\n",
       "<tr>\n",
       "  <th>Kurtosis:</th>       <td> 7.110</td>  <th>  Cond. No.          </th> <td>    14.0</td> \n",
       "</tr>\n",
       "</table>"
      ],
      "text/plain": [
       "<class 'statsmodels.iolib.summary.Summary'>\n",
       "\"\"\"\n",
       "                            OLS Regression Results                            \n",
       "==============================================================================\n",
       "Dep. Variable:     median_house_value   R-squared:                       0.152\n",
       "Model:                            OLS   Adj. R-squared:                  0.151\n",
       "Method:                 Least Squares   F-statistic:                     327.5\n",
       "Date:                Sat, 16 Jun 2018   Prob (F-statistic):               0.00\n",
       "Time:                        09:46:59   Log-Likelihood:            -2.2645e+05\n",
       "No. Observations:               16512   AIC:                         4.529e+05\n",
       "Df Residuals:                   16503   BIC:                         4.530e+05\n",
       "Df Model:                           9                                         \n",
       "Covariance Type:            nonrobust                                         \n",
       "==============================================================================\n",
       "                 coef    std err          t      P>|t|      [0.025      0.975]\n",
       "------------------------------------------------------------------------------\n",
       "x1         -8.513e+04   5243.571    -16.235      0.000   -9.54e+04   -7.48e+04\n",
       "x2         -9.031e+04   5172.880    -17.459      0.000      -1e+05   -8.02e+04\n",
       "x3           1.45e+04   1914.149      7.575      0.000    1.07e+04    1.83e+04\n",
       "x4         -1.361e+04   6016.991     -2.262      0.024   -2.54e+04   -1814.442\n",
       "x5          3.221e+04   8795.952      3.662      0.000     1.5e+04    4.95e+04\n",
       "x6         -4.483e+04   4257.567    -10.530      0.000   -5.32e+04   -3.65e+04\n",
       "x7          3.067e+04   8954.552      3.425      0.001    1.31e+04    4.82e+04\n",
       "x8          7.585e+04   2227.147     34.056      0.000    7.15e+04    8.02e+04\n",
       "x9           326.6858   1830.471      0.178      0.858   -3261.234    3914.605\n",
       "==============================================================================\n",
       "Omnibus:                     3997.672   Durbin-Watson:                   0.202\n",
       "Prob(Omnibus):                  0.000   Jarque-Bera (JB):            15363.856\n",
       "Skew:                           1.166   Prob(JB):                         0.00\n",
       "Kurtosis:                       7.110   Cond. No.                         14.0\n",
       "==============================================================================\n",
       "\n",
       "Warnings:\n",
       "[1] Standard Errors assume that the covariance matrix of the errors is correctly specified.\n",
       "\"\"\""
      ]
     },
     "execution_count": 18,
     "metadata": {},
     "output_type": "execute_result"
    }
   ],
   "source": [
    "lreg.summary()"
   ]
  },
  {
   "cell_type": "code",
   "execution_count": 19,
   "metadata": {},
   "outputs": [
    {
     "name": "stdout",
     "output_type": "stream",
     "text": [
      "   longitude  latitude  housing_median_age  total_rooms  population  \\\n",
      "0    -122.23     37.88                  41          880         322   \n",
      "1    -122.22     37.86                  21         7099        2401   \n",
      "2    -122.24     37.85                  52         1467         496   \n",
      "3    -122.25     37.85                  52         1274         558   \n",
      "4    -122.25     37.85                  52         1627         565   \n",
      "\n",
      "   households  median_income ocean_proximity  \n",
      "0         126         8.3252        NEAR BAY  \n",
      "1        1138         8.3014        NEAR BAY  \n",
      "2         177         7.2574        NEAR BAY  \n",
      "3         219         5.6431        NEAR BAY  \n",
      "4         259         3.8462        NEAR BAY  \n"
     ]
    }
   ],
   "source": [
    "X = Housing_df.drop(['total_bedrooms','median_house_value'], axis=1)\n",
    "print(X.head())"
   ]
  },
  {
   "cell_type": "code",
   "execution_count": 20,
   "metadata": {},
   "outputs": [
    {
     "name": "stdout",
     "output_type": "stream",
     "text": [
      "   longitude  latitude  housing_median_age  total_rooms  population  \\\n",
      "0    -122.23     37.88                  41          880         322   \n",
      "1    -122.22     37.86                  21         7099        2401   \n",
      "2    -122.24     37.85                  52         1467         496   \n",
      "3    -122.25     37.85                  52         1274         558   \n",
      "4    -122.25     37.85                  52         1627         565   \n",
      "\n",
      "   households  median_income  ocean_proximity  \n",
      "0         126         8.3252                3  \n",
      "1        1138         8.3014                3  \n",
      "2         177         7.2574                3  \n",
      "3         219         5.6431                3  \n",
      "4         259         3.8462                3  \n"
     ]
    }
   ],
   "source": [
    "X_labelencoder = LabelEncoder()\n",
    "X[categorical_columns] = X_labelencoder.fit_transform(X[categorical_columns])\n",
    "print (X).head()"
   ]
  },
  {
   "cell_type": "code",
   "execution_count": 21,
   "metadata": {},
   "outputs": [],
   "source": [
    "X_train, X_test, Y_train, Y_test = train_test_split (X, Y, test_size = 0.2,random_state = 0)"
   ]
  },
  {
   "cell_type": "code",
   "execution_count": 22,
   "metadata": {},
   "outputs": [
    {
     "data": {
      "text/html": [
       "<table class=\"simpletable\">\n",
       "<caption>OLS Regression Results</caption>\n",
       "<tr>\n",
       "  <th>Dep. Variable:</th>    <td>median_house_value</td> <th>  R-squared:         </th>  <td>   0.901</td>  \n",
       "</tr>\n",
       "<tr>\n",
       "  <th>Model:</th>                    <td>OLS</td>        <th>  Adj. R-squared:    </th>  <td>   0.901</td>  \n",
       "</tr>\n",
       "<tr>\n",
       "  <th>Method:</th>              <td>Least Squares</td>   <th>  F-statistic:       </th>  <td>1.886e+04</td> \n",
       "</tr>\n",
       "<tr>\n",
       "  <th>Date:</th>              <td>Sat, 16 Jun 2018</td>  <th>  Prob (F-statistic):</th>   <td>  0.00</td>   \n",
       "</tr>\n",
       "<tr>\n",
       "  <th>Time:</th>                  <td>09:47:09</td>      <th>  Log-Likelihood:    </th> <td>-2.0868e+05</td>\n",
       "</tr>\n",
       "<tr>\n",
       "  <th>No. Observations:</th>       <td> 16512</td>       <th>  AIC:               </th>  <td>4.174e+05</td> \n",
       "</tr>\n",
       "<tr>\n",
       "  <th>Df Residuals:</th>           <td> 16504</td>       <th>  BIC:               </th>  <td>4.174e+05</td> \n",
       "</tr>\n",
       "<tr>\n",
       "  <th>Df Model:</th>               <td>     8</td>       <th>                     </th>      <td> </td>     \n",
       "</tr>\n",
       "<tr>\n",
       "  <th>Covariance Type:</th>       <td>nonrobust</td>     <th>                     </th>      <td> </td>     \n",
       "</tr>\n",
       "</table>\n",
       "<table class=\"simpletable\">\n",
       "<tr>\n",
       "           <td></td>             <th>coef</th>     <th>std err</th>      <th>t</th>      <th>P>|t|</th>  <th>[0.025</th>    <th>0.975]</th>  \n",
       "</tr>\n",
       "<tr>\n",
       "  <th>longitude</th>          <td>-2564.2039</td> <td>  119.673</td> <td>  -21.427</td> <td> 0.000</td> <td>-2798.776</td> <td>-2329.631</td>\n",
       "</tr>\n",
       "<tr>\n",
       "  <th>latitude</th>           <td>-9462.2116</td> <td>  382.313</td> <td>  -24.750</td> <td> 0.000</td> <td>-1.02e+04</td> <td>-8712.837</td>\n",
       "</tr>\n",
       "<tr>\n",
       "  <th>housing_median_age</th> <td> 1678.6996</td> <td>   50.310</td> <td>   33.367</td> <td> 0.000</td> <td> 1580.086</td> <td> 1777.313</td>\n",
       "</tr>\n",
       "<tr>\n",
       "  <th>total_rooms</th>        <td>  -10.6084</td> <td>    0.800</td> <td>  -13.253</td> <td> 0.000</td> <td>  -12.177</td> <td>   -9.039</td>\n",
       "</tr>\n",
       "<tr>\n",
       "  <th>population</th>         <td>  -40.7430</td> <td>    1.238</td> <td>  -32.898</td> <td> 0.000</td> <td>  -43.171</td> <td>  -38.316</td>\n",
       "</tr>\n",
       "<tr>\n",
       "  <th>households</th>         <td>  195.4776</td> <td>    5.093</td> <td>   38.384</td> <td> 0.000</td> <td>  185.495</td> <td>  205.460</td>\n",
       "</tr>\n",
       "<tr>\n",
       "  <th>median_income</th>      <td>  4.42e+04</td> <td>  354.923</td> <td>  124.543</td> <td> 0.000</td> <td> 4.35e+04</td> <td> 4.49e+04</td>\n",
       "</tr>\n",
       "<tr>\n",
       "  <th>ocean_proximity</th>    <td> 6018.6350</td> <td>  419.156</td> <td>   14.359</td> <td> 0.000</td> <td> 5197.045</td> <td> 6840.225</td>\n",
       "</tr>\n",
       "</table>\n",
       "<table class=\"simpletable\">\n",
       "<tr>\n",
       "  <th>Omnibus:</th>       <td>3492.935</td> <th>  Durbin-Watson:     </th> <td>   1.985</td> \n",
       "</tr>\n",
       "<tr>\n",
       "  <th>Prob(Omnibus):</th>  <td> 0.000</td>  <th>  Jarque-Bera (JB):  </th> <td>11735.695</td>\n",
       "</tr>\n",
       "<tr>\n",
       "  <th>Skew:</th>           <td> 1.059</td>  <th>  Prob(JB):          </th> <td>    0.00</td> \n",
       "</tr>\n",
       "<tr>\n",
       "  <th>Kurtosis:</th>       <td> 6.545</td>  <th>  Cond. No.          </th> <td>2.99e+03</td> \n",
       "</tr>\n",
       "</table>"
      ],
      "text/plain": [
       "<class 'statsmodels.iolib.summary.Summary'>\n",
       "\"\"\"\n",
       "                            OLS Regression Results                            \n",
       "==============================================================================\n",
       "Dep. Variable:     median_house_value   R-squared:                       0.901\n",
       "Model:                            OLS   Adj. R-squared:                  0.901\n",
       "Method:                 Least Squares   F-statistic:                 1.886e+04\n",
       "Date:                Sat, 16 Jun 2018   Prob (F-statistic):               0.00\n",
       "Time:                        09:47:09   Log-Likelihood:            -2.0868e+05\n",
       "No. Observations:               16512   AIC:                         4.174e+05\n",
       "Df Residuals:                   16504   BIC:                         4.174e+05\n",
       "Df Model:                           8                                         \n",
       "Covariance Type:            nonrobust                                         \n",
       "======================================================================================\n",
       "                         coef    std err          t      P>|t|      [0.025      0.975]\n",
       "--------------------------------------------------------------------------------------\n",
       "longitude          -2564.2039    119.673    -21.427      0.000   -2798.776   -2329.631\n",
       "latitude           -9462.2116    382.313    -24.750      0.000   -1.02e+04   -8712.837\n",
       "housing_median_age  1678.6996     50.310     33.367      0.000    1580.086    1777.313\n",
       "total_rooms          -10.6084      0.800    -13.253      0.000     -12.177      -9.039\n",
       "population           -40.7430      1.238    -32.898      0.000     -43.171     -38.316\n",
       "households           195.4776      5.093     38.384      0.000     185.495     205.460\n",
       "median_income        4.42e+04    354.923    124.543      0.000    4.35e+04    4.49e+04\n",
       "ocean_proximity     6018.6350    419.156     14.359      0.000    5197.045    6840.225\n",
       "==============================================================================\n",
       "Omnibus:                     3492.935   Durbin-Watson:                   1.985\n",
       "Prob(Omnibus):                  0.000   Jarque-Bera (JB):            11735.695\n",
       "Skew:                           1.059   Prob(JB):                         0.00\n",
       "Kurtosis:                       6.545   Cond. No.                     2.99e+03\n",
       "==============================================================================\n",
       "\n",
       "Warnings:\n",
       "[1] Standard Errors assume that the covariance matrix of the errors is correctly specified.\n",
       "[2] The condition number is large, 2.99e+03. This might indicate that there are\n",
       "strong multicollinearity or other numerical problems.\n",
       "\"\"\""
      ]
     },
     "execution_count": 22,
     "metadata": {},
     "output_type": "execute_result"
    }
   ],
   "source": [
    "lreg2 = sm.OLS(Y_train,X_train).fit()\n",
    "lreg2.summary()"
   ]
  },
  {
   "cell_type": "code",
   "execution_count": 23,
   "metadata": {},
   "outputs": [
    {
     "data": {
      "text/plain": [
       "LinearRegression(copy_X=True, fit_intercept=True, n_jobs=-1, normalize=False)"
      ]
     },
     "execution_count": 23,
     "metadata": {},
     "output_type": "execute_result"
    }
   ],
   "source": [
    "model = LinearRegression(n_jobs = -1)\n",
    "model.fit(X_train,Y_train)"
   ]
  },
  {
   "cell_type": "code",
   "execution_count": 24,
   "metadata": {},
   "outputs": [
    {
     "name": "stdout",
     "output_type": "stream",
     "text": [
      "-3494082.0014111833\n",
      "[-4.19057027e+04 -4.20850016e+04  1.13521154e+03 -1.45517146e+00\n",
      " -4.22118446e+01  1.45070120e+02  3.84281321e+04  3.01686983e+02]\n"
     ]
    }
   ],
   "source": [
    "print(model.intercept_)\n",
    "print(model.coef_)"
   ]
  },
  {
   "cell_type": "code",
   "execution_count": 25,
   "metadata": {},
   "outputs": [],
   "source": [
    "pred_train = model.predict(X_train)\n",
    "pred_test = model.predict(X_test)"
   ]
  },
  {
   "cell_type": "code",
   "execution_count": 26,
   "metadata": {},
   "outputs": [
    {
     "data": {
      "text/plain": [
       "array([210871.5988486 , 284152.47745141, 192720.45538445, ...,\n",
       "        82505.09827686, 280613.76460195, 205213.97951731])"
      ]
     },
     "execution_count": 26,
     "metadata": {},
     "output_type": "execute_result"
    }
   ],
   "source": [
    "pred_test"
   ]
  },
  {
   "cell_type": "code",
   "execution_count": 27,
   "metadata": {},
   "outputs": [
    {
     "name": "stdout",
     "output_type": "stream",
     "text": [
      "69893.6935731\n"
     ]
    }
   ],
   "source": [
    "print(sqrt(mean_squared_error(Y_train, pred_train)))"
   ]
  },
  {
   "cell_type": "code",
   "execution_count": 28,
   "metadata": {},
   "outputs": [
    {
     "name": "stdout",
     "output_type": "stream",
     "text": [
      "70273.5890305\n"
     ]
    }
   ],
   "source": [
    "print(sqrt(mean_squared_error(Y_test, pred_test)))"
   ]
  },
  {
   "cell_type": "code",
   "execution_count": 29,
   "metadata": {},
   "outputs": [
    {
     "name": "stdout",
     "output_type": "stream",
     "text": [
      "57596.7069179\n"
     ]
    }
   ],
   "source": [
    "from sklearn.tree import DecisionTreeRegressor  \n",
    "regressor = DecisionTreeRegressor(max_depth = 10,min_samples_leaf = 4,min_samples_split = 3)  \n",
    "regressor.fit(X_train, Y_train) \n",
    "print(sqrt(mean_squared_error(Y_test, regressor.predict(X_test))))"
   ]
  },
  {
   "cell_type": "code",
   "execution_count": 30,
   "metadata": {},
   "outputs": [
    {
     "name": "stdout",
     "output_type": "stream",
     "text": [
      "53451.8170783\n"
     ]
    }
   ],
   "source": [
    "from sklearn.ensemble import RandomForestRegressor\n",
    "regressor = RandomForestRegressor(max_depth=10,min_samples_leaf=4,min_samples_split=3)  \n",
    "regressor.fit(X_train,Y_train) \n",
    "print(sqrt(mean_squared_error(Y_test, regressor.predict(X_test))))"
   ]
  },
  {
   "cell_type": "code",
   "execution_count": 31,
   "metadata": {},
   "outputs": [
    {
     "data": {
      "text/plain": [
       "array([[8.3252],\n",
       "       [8.3014],\n",
       "       [7.2574],\n",
       "       ...,\n",
       "       [1.7   ],\n",
       "       [1.8672],\n",
       "       [2.3886]])"
      ]
     },
     "execution_count": 31,
     "metadata": {},
     "output_type": "execute_result"
    }
   ],
   "source": [
    "X_med=(Housing_df['median_income'].values).reshape(-1, 1)\n",
    "X_med"
   ]
  },
  {
   "cell_type": "code",
   "execution_count": 32,
   "metadata": {},
   "outputs": [],
   "source": [
    "Y=(Housing_df['median_house_value'].values).reshape(-1, 1)"
   ]
  },
  {
   "cell_type": "code",
   "execution_count": 33,
   "metadata": {},
   "outputs": [],
   "source": [
    "X_train_med, X_test_med, Y_train_med, Y_test_med = train_test_split (X_med, Y, test_size = 0.2, \n",
    "                                                     random_state = 0)"
   ]
  },
  {
   "cell_type": "code",
   "execution_count": 34,
   "metadata": {},
   "outputs": [
    {
     "data": {
      "text/plain": [
       "LinearRegression(copy_X=True, fit_intercept=True, n_jobs=-1, normalize=False)"
      ]
     },
     "execution_count": 34,
     "metadata": {},
     "output_type": "execute_result"
    }
   ],
   "source": [
    "model = LinearRegression(n_jobs = -1)\n",
    "model.fit(X_train_med,Y_train_med)"
   ]
  },
  {
   "cell_type": "code",
   "execution_count": 35,
   "metadata": {},
   "outputs": [
    {
     "name": "stdout",
     "output_type": "stream",
     "text": [
      "[44320.63522766]\n",
      "[[42032.17769894]]\n"
     ]
    }
   ],
   "source": [
    "print(model.intercept_)\n",
    "print(model.coef_)"
   ]
  },
  {
   "cell_type": "code",
   "execution_count": 36,
   "metadata": {},
   "outputs": [],
   "source": [
    "pred_train_med = model.predict(X_train_med)\n",
    "pred_test_med = model.predict(X_test_med)"
   ]
  },
  {
   "cell_type": "code",
   "execution_count": 37,
   "metadata": {},
   "outputs": [
    {
     "name": "stdout",
     "output_type": "stream",
     "text": [
      "84941.0515241\n"
     ]
    }
   ],
   "source": [
    "print(sqrt(mean_squared_error(Y_test_med, pred_test_med)))"
   ]
  },
  {
   "cell_type": "code",
   "execution_count": 38,
   "metadata": {},
   "outputs": [],
   "source": [
    "from matplotlib import pyplot as plt"
   ]
  },
  {
   "cell_type": "code",
   "execution_count": 39,
   "metadata": {},
   "outputs": [
    {
     "data": {
      "text/plain": [
       "Text(0,0.5,u'train predictions')"
      ]
     },
     "execution_count": 39,
     "metadata": {},
     "output_type": "execute_result"
    },
    {
     "data": {
      "image/png": "[encoded data removed]",
      "text/plain": [
       "<matplotlib.figure.Figure at 0x10aa83f0>"
      ]
     },
     "metadata": {},
     "output_type": "display_data"
    }
   ],
   "source": [
    "plt.scatter(Y_train_med, pred_train_med)\n",
    "plt.xlabel(\"True train value\")\n",
    "plt.ylabel(\"train predictions\")"
   ]
  },
  {
   "cell_type": "code",
   "execution_count": 40,
   "metadata": {},
   "outputs": [
    {
     "data": {
      "image/png": "[encoded data removed]",
      "text/plain": [
       "<matplotlib.figure.Figure at 0x10ac9b90>"
      ]
     },
     "metadata": {},
     "output_type": "display_data"
    }
   ],
   "source": [
    "plt.scatter(Y_test_med, pred_test_med)\n",
    "plt.xlabel(\"True test value\")\n",
    "plt.ylabel(\"test predictions\")\n",
    "plt.show()"
   ]
  },
  {
   "cell_type": "code",
   "execution_count": 41,
   "metadata": {},
   "outputs": [
    {
     "data": {
      "image/png": "[encoded data removed]",
      "text/plain": [
       "<matplotlib.figure.Figure at 0x10c0a110>"
      ]
     },
     "metadata": {},
     "output_type": "display_data"
    }
   ],
   "source": [
    "plt.scatter(X_train_med, Y_train_med,  color='black')\n",
    "plt.plot(X_train_med, pred_train_med, color='blue', linewidth=3)\n",
    "plt.xticks(())\n",
    "plt.yticks(())\n",
    "plt.show()"
   ]
  },
  {
   "cell_type": "code",
   "execution_count": 42,
   "metadata": {},
   "outputs": [
    {
     "data": {
      "image/png": "[encoded data removed]",
      "text/plain": [
       "<matplotlib.figure.Figure at 0x10c0a8f0>"
      ]
     },
     "metadata": {},
     "output_type": "display_data"
    }
   ],
   "source": [
    "plt.scatter(X_test_med, Y_test_med,  color='black')\n",
    "plt.plot(X_test_med, pred_test_med, color='blue', linewidth=3)\n",
    "plt.xticks(())\n",
    "plt.yticks(())\n",
    "plt.show()"
   ]
  },
  {
   "cell_type": "code",
   "execution_count": null,
   "metadata": {},
   "outputs": [],
   "source": []
  }
 ],
 "metadata": {
  "kernelspec": {
   "display_name": "Python 3",
   "language": "python",
   "name": "python3"
  },
  "language_info": {
   "codemirror_mode": {
    "name": "ipython",
    "version": 3
   },
   "file_extension": ".py",
   "mimetype": "text/x-python",
   "name": "python",
   "nbconvert_exporter": "python",
   "pygments_lexer": "ipython3",
   "version": "3.7.1"
  }
 },
 "nbformat": 4,
 "nbformat_minor": 2
}
